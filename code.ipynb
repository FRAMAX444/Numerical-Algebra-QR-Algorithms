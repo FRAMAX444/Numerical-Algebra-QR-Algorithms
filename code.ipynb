{
  "cells": [
    {
      "cell_type": "markdown",
      "metadata": {
        "id": "t1brrILszRau"
      },
      "source": [
        "# **COMPARISON QR ALGORITHMS FOR FINDING EIGENVALUES ON SYMMETRIC MATRICES**\n",
        "\n",
        "Francesco Marrocco"
      ]
    },
    {
      "cell_type": "markdown",
      "metadata": {
        "id": "ycx--yA9y9am"
      },
      "source": [
        "# **Import dependencies**"
      ]
    },
    {
      "cell_type": "code",
      "execution_count": 1,
      "metadata": {
        "id": "M5Q64buBO52F"
      },
      "outputs": [],
      "source": [
        "import numpy as np\n",
        "import matplotlib.pyplot as plt\n",
        "import time\n",
        "from tqdm import tqdm"
      ]
    },
    {
      "cell_type": "markdown",
      "metadata": {
        "id": "PF8WyBIXlHb8"
      },
      "source": [
        "# **QR Algorithm**"
      ]
    },
    {
      "cell_type": "markdown",
      "metadata": {
        "id": "pM6M60ITp2d9"
      },
      "source": [
        "Among the various algorithms for finding eigenvalues, the QR algorithm is certainly among the best known. This algorithm works by making use of the QR factorization of a matrix, that is, the decomposition of any matrix\n",
        "\n",
        "$A=QR \\quad A \\epsilon \\mathbb{R^{mxn}} \\quad Q \\epsilon \\mathbb{R^{nxn}}$ orthogonal $\\quad R \\epsilon \\mathbb{R^{mxn}}$ upper triangular\n",
        "\n",
        "The construction of the factorization comes directly from the fact that imposing $span(a_1 , a_2, ... , a_n)=span(q_1 , q_2, ... , q_n)$ ($a_i$ column of $A$ and $q_i$ column of $Q$)\n",
        "\n",
        "It comes immediately that $a_j = \\sum_{i=1}^{n} r_{ij}q_{j}$. In the three methods I present I will study the various methods to obtain the matrix $R$ enclosing the $r_{ij}$ such that it is upper triangular.\n",
        "\n",
        "As mentioned, in this notebook I will experiment with the efficiency of three algorithms to compute the QR factorization of a matrix. The three proposed algorithms correctly compute the QR factorization of any matrix, but will later be used in the tests only in computing the eigenvalues of symmetric matrices, in which the eigenvalues (all real) lie on the diagonal. The non-symmetric case, on the other hand, would generate blocks below the diagonal at the complex eigenvalues.\n",
        "\n",
        "I initialize a symmetric matrix to verify the operation of the 3 algorithms"
      ]
    },
    {
      "cell_type": "code",
      "execution_count": 2,
      "metadata": {
        "id": "EniNNrinRfhv"
      },
      "outputs": [],
      "source": [
        "A = np.array([\n",
        "    [5, 7, 5, 4],\n",
        "    [7, 9, 3, 4],\n",
        "    [5, 3, 1, 3],\n",
        "    [4, 4, 3, 8]\n",
        "])"
      ]
    },
    {
      "cell_type": "markdown",
      "metadata": {
        "id": "tvfGFjB8M9se"
      },
      "source": [
        "# **QR with Gram-Schmidt**"
      ]
    },
    {
      "cell_type": "markdown",
      "metadata": {
        "id": "pnn9mEDlHJFG"
      },
      "source": [
        "The first algorithm is the Gram-Schmidt algorithm. It is generally used to find an orthonormal basis from a nonorthogonal basis. The vectors of the new basis are computed sequentially, looking for them to be orthonormal to all previous ones.\n",
        "\n",
        "$A=[a_1|...|a_n]$\n",
        "\n",
        "$v_1=a_1 \\quad\\quad q_1 = \\frac{a_1}{||a_1||}$\n",
        "\n",
        "$v_2=a_2-proj_{v_1}a_2=a_2-<a_2,q_1>q_1 \\quad q_2 = \\frac{a_2}{|a_2||}$\n",
        "\n",
        "$v_n=a_n-\\sum_{i=1}^n proj_{v_i}a_i \\quad q_i = \\frac{a_i}{|a_i|}$\n",
        "\n",
        "The matrix R is equal to $R= \\begin{bmatrix}<q_1,a_1> & <q_1,a_2> & ... & <q_1,a_n> \\\\ 0 & <q_2,a_2> & ... & <q_2,a_n> \\\\ ... &...& ...&...\\\\0&0&...&<q_n,a_n> \\end{bmatrix}$\n",
        "\n",
        "While $Q$ is $Q=[q_1|...|q_n]$ with $q_i$ orthonormal"
      ]
    },
    {
      "cell_type": "code",
      "execution_count": 3,
      "metadata": {
        "id": "nXp-vYKlNDq-"
      },
      "outputs": [],
      "source": [
        "def QR_Gram_Schmidt(A):\n",
        "    m, n = A.shape\n",
        "    A = A.astype(np.float64)\n",
        "    Q = np.zeros((m, n))\n",
        "    R = np.zeros((n, n))\n",
        "\n",
        "    for k in range(n):\n",
        "        v_k = A[:, k]\n",
        "        for i in range(k):\n",
        "            R[i, k] = np.dot(Q[:, i], A[:, k])\n",
        "            v_k = v_k - R[i, k] * Q[:, i]\n",
        "        R[k, k] = np.linalg.norm(v_k)\n",
        "        Q[:, k] = v_k / R[k, k]\n",
        "\n",
        "    return Q, R"
      ]
    },
    {
      "cell_type": "markdown",
      "metadata": {
        "id": "jlTUTYmpSSFW"
      },
      "source": [
        "## *Computational cost*"
      ]
    },
    {
      "cell_type": "markdown",
      "metadata": {
        "id": "v52FUJ4jhCLO"
      },
      "source": [
        "\n",
        "*   `for k in range(n)` $\\quad  ←\\quad O(n)$\n",
        "*   `for i in range(k)` $\\quad  ←\\quad O(n)$\n",
        "*   `R[i, k] = np.dot(Q[:, i], A[:, k])`$\\quad  ←\\quad O(n)$\n",
        "\n",
        "\n",
        "\n",
        "\n",
        "Total $O(n^3)$"
      ]
    },
    {
      "cell_type": "markdown",
      "metadata": {
        "id": "-vItvBdYhiDI"
      },
      "source": [
        "## *Example*"
      ]
    },
    {
      "cell_type": "code",
      "execution_count": 4,
      "metadata": {
        "colab": {
          "base_uri": "https://localhost:8080/"
        },
        "id": "C6CD5a4WhgyJ",
        "outputId": "8e4356a8-c8bd-465d-b8a6-d8a0d5bd5ac7"
      },
      "outputs": [
        {
          "output_type": "stream",
          "name": "stdout",
          "text": [
            "Q=[[ 0.4662524   0.43360593  0.59417901 -0.49147319]\n",
            " [ 0.65275337  0.35772489 -0.65131161  0.14744196]\n",
            " [ 0.4662524  -0.81301112 -0.0571326  -0.34403123]\n",
            " [ 0.37300192 -0.15176207  0.4684873   0.7863571 ]]\n",
            "R=[[10.72380529 12.02931203  5.87478029  8.85879568]\n",
            " [ 0.          3.20868387  1.97290697 -0.48780667]\n",
            " [ 0.          0.          2.36528954  3.34797021]\n",
            " [ 0.          0.          0.          3.88263818]]\n"
          ]
        }
      ],
      "source": [
        "Q, R = QR_Gram_Schmidt(A)\n",
        "print(f\"Q={Q}\")\n",
        "print(f\"R={R}\")"
      ]
    },
    {
      "cell_type": "markdown",
      "metadata": {
        "id": "jAnCr88yNqlR"
      },
      "source": [
        "# **QR with Householder**"
      ]
    },
    {
      "cell_type": "markdown",
      "metadata": {
        "id": "kWVV1q0SluqK"
      },
      "source": [
        "The second algorithm is one that makes use of Householder reflections, that is, performing transformations to the matrix $A$ aimed at deleting, at step $i$ the last $i$ elements of the column. The idea is that the matrix $H$ is a reflection matrix with respect to a vector $v$ and that therefore I can mirror the columns of $A$ to make them parallel to $e_1$ which gradually cancels only the last terms, hence upper triangular ($R$). The $n$ matrices $H$ that allow me this reflection will be $Q$\n",
        "\n",
        "I know that the vectors on which I reflect are obtained as $v=a_i \\pm ||a_i||e_1$ ( the $\\pm$ is so that the first term does not cancel)\n",
        "\n",
        "All that remains is for me to compute them one by one and reflect, i.e., the reflection matrix is $H=I-2 \\frac{vv^T}{||v||_2^2}$ (it is well understood graphically)"
      ]
    },
    {
      "cell_type": "code",
      "execution_count": 5,
      "metadata": {
        "id": "SHAfVGqwi87q"
      },
      "outputs": [],
      "source": [
        "def QR_Householder(A):\n",
        "    m, n = A.shape\n",
        "    A = A.astype(np.float64)\n",
        "    Q = np.eye(m)\n",
        "    R = A.copy()\n",
        "\n",
        "\n",
        "    for j in range(n):\n",
        "        a_n = np.linalg.norm(R[j:, j])\n",
        "        if a_n == 0:\n",
        "            continue\n",
        "        s = -np.sign(R[j, j]) if R[j, j] != 0 else -1\n",
        "        u1 = R[j, j] - s * a_n\n",
        "        w = R[j:, j] / u1\n",
        "        w[0] = 1\n",
        "        tau = -s * u1 / a_n\n",
        "\n",
        "        R[j:, :] = R[j:, :] - tau * np.outer(w, np.dot(w.T, R[j:, :]))\n",
        "\n",
        "        Q[:, j:] = Q[:, j:] - np.outer(Q[:, j:] @ w, tau * w)\n",
        "\n",
        "    return Q, R"
      ]
    },
    {
      "cell_type": "markdown",
      "metadata": {
        "id": "ALn3b1pg1-Fa"
      },
      "source": [
        "## *Computational cost*"
      ]
    },
    {
      "cell_type": "markdown",
      "metadata": {
        "id": "k8gHP5LY1-Fc"
      },
      "source": [
        "\n",
        "\n",
        "`for j in range(n)` $\\quad \\leftarrow \\quad O(n)$\n",
        "\n",
        "\n",
        "`R[j:, :] = R[j:, :] - tau * np.outer(w, np.dot(w.T, R[j:, :]))` $\\quad \\leftarrow \\quad O(n^2)$\n",
        "\n",
        "\n",
        "Total $O(n^3)$"
      ]
    },
    {
      "cell_type": "markdown",
      "metadata": {
        "id": "iVABO5KX1-Fd"
      },
      "source": [
        "## *Example*"
      ]
    },
    {
      "cell_type": "code",
      "execution_count": 6,
      "metadata": {
        "colab": {
          "base_uri": "https://localhost:8080/"
        },
        "id": "9IKHHc2f1-Fd",
        "outputId": "667d3ce4-2fad-4109-8dfd-13d98a2c5d47"
      },
      "outputs": [
        {
          "output_type": "stream",
          "name": "stdout",
          "text": [
            "Q=[[-0.4662524  -0.43360593  0.59417901  0.49147319]\n",
            " [-0.65275337 -0.35772489 -0.65131161 -0.14744196]\n",
            " [-0.4662524   0.81301112 -0.0571326   0.34403123]\n",
            " [-0.37300192  0.15176207  0.4684873  -0.7863571 ]]\n",
            "R=[[-1.07238053e+01 -1.20293120e+01 -5.87478029e+00 -8.85879568e+00]\n",
            " [-1.07732559e-15 -3.20868387e+00 -1.97290697e+00  4.87806669e-01]\n",
            " [-6.32899985e-17  0.00000000e+00  2.36528954e+00  3.34797021e+00]\n",
            " [ 6.42717481e-16  0.00000000e+00  0.00000000e+00 -3.88263818e+00]]\n"
          ]
        }
      ],
      "source": [
        "Q, R = QR_Householder(A)\n",
        "print(f\"Q={Q}\")\n",
        "print(f\"R={R}\")"
      ]
    },
    {
      "cell_type": "markdown",
      "metadata": {
        "id": "SUvR4EDwrg1o"
      },
      "source": [
        "# **QR with Givens**"
      ]
    },
    {
      "cell_type": "markdown",
      "metadata": {
        "id": "Ay7vRMqx7Ab6"
      },
      "source": [
        "The last QR algorithm is one that makes use of Givenso rotations on a Hessenberg matrix (upper triangular with an extra column below the principal). By Schur factorization I know that any matrix $A$ can be written as $A=WTW^T$ com $W$ orthogonal and $T$ Hessenberg. The Hessenberg matrix is found by the same logic exposed for QR Householder, aiming to zero out all elements leaving only a diagonal below the principal. the Hessenberg matrix is similar to $A$.\n",
        "\n",
        "I now aim to delete the elements of the subdiagonal, using Givens rotations. I consider $A_G$ matrix of Givens rotations and $x$ which is the vector composed of the element on the diagonal and the one directly below it\n",
        "\n",
        "$A_{G}=\\begin{bmatrix}cos \\theta &sin \\theta&cos \\theta\\end{bmatrix}$\n",
        "\n",
        "$x=\\begin{bmatrix}x_1\\\\x_2\\end{bmatrix}$\n",
        "\n",
        "I try to rotate $x$ until it becomes parallel to $e_1$.\n",
        "\n",
        "It then turns out that:\n",
        "\n",
        "$cos \\theta = \\frac{x_1}{\\sqrt{x_1^2+x_2^2}}$\n",
        "\n",
        "$sin \\theta = \\frac{x_2}{\\sqrt{x_1^2+x_2^2}}$\n",
        "\n",
        "By repeatedly applying this transformation to $A$ Hessenberg I get $R$ triangular upper. Instead $Q$ I get it by repeatedly applying $Q=G_{n-1}...G_1$\n",
        "\n",
        "where $G_i=\\begin{bmatrix}I&0&0\\\\0&A_G&0\\\\0&0&I \\end{bmatrix}$"
      ]
    },
    {
      "cell_type": "code",
      "execution_count": 7,
      "metadata": {
        "id": "VmlqXzaM17O7"
      },
      "outputs": [],
      "source": [
        "def hess(A):\n",
        "    n = len(A)\n",
        "    H = A.copy()\n",
        "    H = A.astype(np.float64)\n",
        "\n",
        "    for j in range(n-2):\n",
        "        u = H[j+1:, j].copy()\n",
        "        u[0] += np.sign(u[0]) * np.linalg.norm(u)\n",
        "        v = u / np.linalg.norm(u)\n",
        "\n",
        "        H[j+1:, :] -= 2 * np.outer(v, np.dot(v.T, H[j+1:, :]))\n",
        "        H[:, j+1:] -= 2 * np.outer(np.dot(H[:, j+1:], v), v.T)\n",
        "\n",
        "    return H\n",
        "\n",
        "def givens(a, b):\n",
        "    r = np.hypot(a, b)\n",
        "    c = a / r\n",
        "    s = b / r\n",
        "    return c,s\n",
        "\n",
        "def QR_Givens(A):\n",
        "    A = A.copy()\n",
        "    m = A.shape[0]\n",
        "    A = A.astype(np.float64)\n",
        "    Q = np.eye(m)\n",
        "\n",
        "    for k in range(m-1):\n",
        "        c,s = givens(A[k, k], A[k+1, k])\n",
        "        G_k = np.array([[c, s],[-s,c]])\n",
        "        A[k:k+2, :] = G_k @ A[k:k+2, :]\n",
        "        Q[:, k:k+2] = Q[:, k:k+2] @ G_k.T\n",
        "\n",
        "    return Q, A"
      ]
    },
    {
      "cell_type": "markdown",
      "metadata": {
        "id": "XgxZYrca67Tl"
      },
      "source": [
        "## *Computational cost*"
      ]
    },
    {
      "cell_type": "markdown",
      "metadata": {
        "id": "2qiz7d5p67Tm"
      },
      "source": [
        "function `hess` $\\quad \\leftarrow \\quad O(n^3)$\n",
        "\n",
        "function `givens` $\\quad \\leftarrow \\quad O(1)$\n",
        "\n",
        "function `QR_Givens` $\\quad \\leftarrow \\quad O(n^2)$\n",
        "\n",
        "\n"
      ]
    },
    {
      "cell_type": "markdown",
      "metadata": {
        "id": "zu_S7KthezjE"
      },
      "source": [
        "Therefore, if I were to apply `QR_Givens` many times, I would have to execute the `hess` function once in $n^3$ and then many times `QR_Givens` in $n^2$"
      ]
    },
    {
      "cell_type": "markdown",
      "metadata": {
        "id": "-9hg0QwS67Tm"
      },
      "source": [
        "## *Example*"
      ]
    },
    {
      "cell_type": "code",
      "execution_count": 8,
      "metadata": {
        "colab": {
          "base_uri": "https://localhost:8080/"
        },
        "id": "HYgtJ4Dw67Tm",
        "outputId": "44c62101-e7ba-4448-c5a8-082e4c1e7b59"
      },
      "outputs": [
        {
          "output_type": "stream",
          "name": "stdout",
          "text": [
            "Q=[[ 0.4662524  -0.48373592 -0.57243985 -0.47002221]\n",
            " [-0.88465174 -0.25495121 -0.30170229 -0.24772345]\n",
            " [ 0.         -0.83725709  0.42260506  0.34699499]\n",
            " [ 0.          0.          0.63458121 -0.77285619]]\n",
            "R=[[ 1.07238053e+01 -1.57074831e+01  3.31219384e+00  7.85728582e-16]\n",
            " [ 4.42302467e-16  4.47182268e+00 -3.26392660e-01 -1.57989544e+00]\n",
            " [ 5.63750093e-16  7.86160618e-17  2.97359833e+00  3.15461097e+00]\n",
            " [-1.89499385e-15 -5.10057290e-16  2.90187944e-17 -2.21600780e+00]]\n"
          ]
        }
      ],
      "source": [
        "A=hess(A)\n",
        "Q, R = QR_Givens(A)\n",
        "print(f\"Q={Q}\")\n",
        "print(f\"R={R}\")"
      ]
    },
    {
      "cell_type": "markdown",
      "metadata": {
        "id": "U4BR14XbSFYf"
      },
      "source": [
        "It obviously has a different factorization from the previous ones because I am factoring an actually different matrix. `hess(A)` modifies the original matrix, creating a new one, Hessenberg and similar\n"
      ]
    },
    {
      "cell_type": "markdown",
      "metadata": {
        "id": "KTMg9v1iOB_Y"
      },
      "source": [
        "# **Eigenvalue search**"
      ]
    },
    {
      "cell_type": "markdown",
      "metadata": {
        "id": "SVjV143IQaVF"
      },
      "source": [
        "This factorization is extremely useful when looking for eigenvalues. Indeed, knowing that $Q$ is orthogonal, so $Q^{-1}=Q^{T}$, and knowing that for $P$ invertible $A=P^{-1}BP$ is verified if $A$ and $B$ are similar (same eigenvalues), I can say that at each iteration of the algorithm, imposing $A_{k}=Q_{k}R_{k}$ and $A_{k+1}=R_{k}Q_{k}$\n",
        "\n",
        "$A_{k+1}=R_{k}Q_{k}=Q_{k}^{T}A_{k}Q_{k}$ i.e., I am proceeding by applying orthogonal transformations to $A_{k$ thus keeping the eigenvalues unchanged for the proprtities seen before.\n",
        "\n",
        "Therefore at step $i+1$:\n",
        "\n",
        "$A_{i+1} = Q_{i}^{T}A_{i}Q_{i}=Q_{i}^{T}...Q_{1}^{T}A_1Q_{1}...Q_{i}$\n",
        "\n",
        "I can call $P_i=Q_1...Q_{i}$ (orthogonal because product of orthogonal matrices) and thus $A_{i+1} = P_{i}^{T}A_{1}P_{i}$\n",
        "\n",
        "At the same time the matrix $A$ can be written as $A=X\\Lambda X^{-1}$ with $X=\\begin{bmatrix} x_n & ... & x_1 \\end{bmatrix}, x_i$ eigenvectors and $\\Lambda = diag(\\lambda_n, ..., \\lambda_1), \\lambda_i$ decreasing ordered eigenvalues.\n",
        "\n",
        "Since a QR factorization exists for every matrix, it also exists for $X = QR$ and thus:\n",
        "\n",
        "$A = QR\\Lambda R^{-1}Q^T ⇒ Q^TAQ=R\\Lambda R^{-1}$ and therefore since $R\\Lambda R^{-1}$ is product of upper triangular matrices $Q^TAQ$ is upper triangular\n",
        "\n",
        "Now I just need to prove that for $i\\rightarrow ∞$\n",
        "\n",
        "$P_{i}^{T}A_{1}P_{i}=Q^TAQ$\n",
        "\n",
        "That is, that $P_{i}\\rightarrow Q$ for $i \\rightarrow \\infty$\n",
        "\n",
        "To prove this I define $U_i = R_iR_{i-1}...R_1$ and thus $P_iU_i = Q_1...Q_iR_i...R_1 = Q_1...Q_{i-1}A_iR_{i-1}...R_1 = P_{i-1}A_iU_{i-1}$\n",
        "\n",
        "But I also know that $A_i=P_{i-1}^{T}A_{1}P_{i-1}$\n",
        "\n",
        "$P_iU_i = P_{i-1}A_iU_{i-1} = P_{i-1}P_{i-1}^{T}A_{1}P_{i-1}U_{i-1}=A_{1}P_{i-1}U_{i-1}$\n",
        "\n",
        "$P_iU_i=A_{1}P_{i-1}U_{i-1}$\n",
        "\n",
        "Iterating knowing that $P_1U_1=A_{1}P_{0}U_{0}$ I get that $P_iU_i=(A_{1})^{i-1}P_{1}U_{1}=(A_{1})^{i-1}Q_{1}R_{1}=A^{i}$\n",
        "\n",
        "$P_iU_i=A^{i}$\n",
        "\n",
        "At the same time $A=X\\Lambda X^{-1}$ and so $A^i=(X\\Lambda X^{-1})...(X\\Lambda X^{-1})=X\\Lambda ^i X^{-1}$\n",
        "\n",
        "I again use the fact that $X=QR$ and decompose LU $X^{-1}=LU$ With $L$ lower triangular and $U$ upper triangular. Therefore:\n",
        "\n",
        "$A^i=QR \\Lambda^i LU = QR \\Lambda^i L \\Lambda^{-1} \\Lambda^i U = QR(\\Lambda^i L \\Lambda^{-i}) \\Lambda^i U$\n",
        "\n",
        "$\\Rightarrow P_iU_i=QR(\\Lambda^i L \\Lambda^{-i}) \\Lambda^i U$\n",
        "\n",
        "Now, if $\\Lambda^i L \\Lambda^{-i} = I$ I would be finished since I could identify $U_i=R \\Lambda^i U$ since it is a product between upper triangles and $P_i=Q$ proving what we set out to do at the beginning.\n",
        "\n",
        "Therefore, $\\Lambda^i L \\Lambda^{-i} = I$ ?\n",
        "\n",
        "I note that $\\Lambda^i L \\Lambda^{-i}$ is lower triangular and that the element at position $i,j$ is less than one for $i>j$ (since I had originally taken $\\Lambda$ with decreasingly ordered eigenvalues, I can say that for $i→∞$\n",
        "\n",
        "$\\Lambda^i L \\Lambda^{-i} = I$\n",
        "\n",
        "Proving that $\\lim_{i→∞}A_i=Q^TAQ$ i.e., that $A_i$ converges to an upper triangular matrix with eigenvalues on the diagonal"
      ]
    },
    {
      "cell_type": "markdown",
      "metadata": {
        "id": "DG6BgbPWQkkI"
      },
      "source": [
        "Rutgers University: MATH 574 LECTURE NOTES, Theorem 22\n",
        "\n",
        "https://sites.math.rutgers.edu/~falk/math574/lecture9.pdf"
      ]
    },
    {
      "cell_type": "code",
      "execution_count": 9,
      "metadata": {
        "id": "QqNSfmB5te3j"
      },
      "outputs": [],
      "source": [
        "def Autovalori_QR(func, A, itmax, tol):\n",
        "    if func!=QR_Gram_Schmidt: A = hess(A)\n",
        "    i , t = 0, float('inf')\n",
        "    A = A.astype(np.float64)\n",
        "    if itmax == float('inf'):\n",
        "        while t > tol:\n",
        "            Q, R = func(A)\n",
        "            Ak = R@Q\n",
        "            t = np.linalg.norm(A - Ak)\n",
        "            A = Ak\n",
        "            i += 1\n",
        "\n",
        "    elif tol == float('inf'):\n",
        "        for i in range(itmax):\n",
        "            Q, R = func(A)\n",
        "            A = R@Q\n",
        "\n",
        "    else:\n",
        "        t = float('inf')\n",
        "        i = 0\n",
        "        while i < itmax and t > tol:\n",
        "            Q, R = func(A)\n",
        "            Ak = R@Q\n",
        "            t = np.linalg.norm(A - Ak)\n",
        "            A = Ak\n",
        "            i += 1\n",
        "    autovalori = np.diag(A)\n",
        "    return autovalori, t, i"
      ]
    },
    {
      "cell_type": "markdown",
      "metadata": {
        "id": "B0rOIdMr-M5y"
      },
      "source": [
        "# **Convergence speed comparison**\n"
      ]
    },
    {
      "cell_type": "markdown",
      "metadata": {
        "id": "-iBtIOyN-dGj"
      },
      "source": [
        "## *Fixed itmax and compare the time as n increases:*"
      ]
    },
    {
      "cell_type": "code",
      "execution_count": 10,
      "metadata": {
        "colab": {
          "base_uri": "https://localhost:8080/",
          "height": 487
        },
        "id": "8mCshffK-YPo",
        "outputId": "87d3055e-cf3e-4399-aab9-f731d5b9ac1f"
      },
      "outputs": [
        {
          "output_type": "display_data",
          "data": {
            "text/plain": [
              "<Figure size 1000x500 with 1 Axes>"
            ],
            "image/png": "[encoded data removed]"
          },
          "metadata": {}
        }
      ],
      "source": [
        "time_gram_schmidt = []\n",
        "time_householder = []\n",
        "time_givens = []\n",
        "dimensioni = [i for i in range(10, 110, 10)]\n",
        "itmax = 100\n",
        "\n",
        "for n in dimensioni:\n",
        "    time_gram_schmidt1 = []\n",
        "    time_householder1 = []\n",
        "    time_givens1 = []\n",
        "    time_base1 = []\n",
        "    for i in range(10):\n",
        "        A = np.random.rand(n, n)\n",
        "        A_simm = A.T + A\n",
        "        start_time = time.time()\n",
        "        Autovalori_QR(QR_Gram_Schmidt, A, itmax, float('inf'))\n",
        "        end_time = time.time()\n",
        "        time_gram_schmidt1.append(end_time - start_time)\n",
        "        start_time = time.time()\n",
        "        Autovalori_QR(QR_Householder, A_simm, itmax, float('inf'))\n",
        "        end_time = time.time()\n",
        "        time_householder1.append(end_time - start_time)\n",
        "        start_time = time.time()\n",
        "        Autovalori_QR(QR_Givens, A_simm, itmax, float('inf'))\n",
        "        end_time = time.time()\n",
        "        time_givens1.append(end_time - start_time)\n",
        "\n",
        "    time_gram_schmidt.append(np.mean(time_gram_schmidt1))\n",
        "    time_householder.append(np.mean(time_householder1))\n",
        "    time_givens.append(np.mean(time_givens1))\n",
        "\n",
        "plt.figure(figsize=(10, 5))\n",
        "plt.plot(dimensioni, time_gram_schmidt, label='Gram-Schmidt', marker='o')\n",
        "plt.plot(dimensioni, time_householder, label='Householder', marker='o')\n",
        "plt.plot(dimensioni, time_givens, label='Givens', marker='x')\n",
        "plt.xlabel('Square matrix dimension')\n",
        "plt.ylabel('Time (sec)')\n",
        "plt.title('Convergence time for Gram-Schmidt - Householder - Givens')\n",
        "plt.legend()\n",
        "plt.grid(True)\n",
        "plt.show()"
      ]
    },
    {
      "cell_type": "markdown",
      "metadata": {
        "id": "nvS6jDKhmcIU"
      },
      "source": [
        "## *Fixed t and itmax comparison*"
      ]
    },
    {
      "cell_type": "code",
      "execution_count": null,
      "metadata": {
        "colab": {
          "background_save": true,
          "base_uri": "https://localhost:8080/"
        },
        "id": "i6Wo3O02mvTP",
        "outputId": "34b1e3d0-ab96-41f0-b97b-796a811a0414"
      },
      "outputs": [
        {
          "output_type": "stream",
          "name": "stderr",
          "text": [
            " 50%|█████     | 3/6 [00:11<00:13,  4.55s/it]"
          ]
        }
      ],
      "source": [
        "iter_gram_schmidt = []\n",
        "iter_householder = []\n",
        "iter_givens = []\n",
        "dimensioni = [i for i in range(3, 33, 5)]\n",
        "tol = 1e-3\n",
        "B = []\n",
        "\n",
        "for n in tqdm(dimensioni):\n",
        "    iter_gram_schmidt1 = []\n",
        "    iter_householder1 = []\n",
        "    iter_givens1 = []\n",
        "    for _ in range(10):\n",
        "        A = np.random.rand(n, n) * 10\n",
        "        A_simm = A.T + A\n",
        "        i1 = Autovalori_QR(QR_Gram_Schmidt,A_simm, float('inf'), tol)[2]\n",
        "        iter_gram_schmidt1.append(i1)\n",
        "        i2 = Autovalori_QR(QR_Householder,A_simm, float('inf'), tol)[2]\n",
        "        iter_householder1.append(i2)\n",
        "        i3 = Autovalori_QR(QR_Givens,A_simm, float('inf'), tol)[2]\n",
        "        iter_givens1.append(i3)\n",
        "        B.append(A_simm)\n",
        "    iter_gram_schmidt.append(np.mean(iter_gram_schmidt1))\n",
        "    iter_householder.append(np.mean(iter_householder1))\n",
        "    iter_givens.append(np.mean(iter_givens1))\n",
        "\n",
        "plt.figure(figsize=(10, 5))\n",
        "plt.plot(dimensioni, iter_gram_schmidt, label='Gram-Schmidt', marker='o')\n",
        "plt.plot(dimensioni, iter_householder, label='Householder', marker='x')\n",
        "plt.plot(dimensioni, iter_givens, label='Givens', marker='o')\n",
        "plt.xlabel('Square matrix dimension')\n",
        "plt.ylabel('Number of iterations')\n",
        "plt.title('Number of iterations until convergence for Gram-Schmidt - Householder - Givens')\n",
        "plt.legend()\n",
        "plt.grid(True)\n",
        "plt.show()"
      ]
    },
    {
      "cell_type": "markdown",
      "metadata": {
        "id": "IznSO-rGU6EY"
      },
      "source": [
        "# **QR with shift**"
      ]
    },
    {
      "cell_type": "markdown",
      "metadata": {
        "id": "Im9G9KfiqzGc"
      },
      "source": [
        "I now implement a final version that should improve the speed of convergence for a generic QR algorithm by adding a shift. The simplest technique is the single shift technique (convergence is assured only with double shift techniques, but I find it interesting to study this one to compare how a simple improvement greatly reduces the iterations required for convergence in most cases)\n",
        "\n",
        "I define the shift as $\\mu=A_{n,n}$\n",
        "\n",
        "$QR=A-\\mu I$ with $A$ Hessenberg.\n",
        "\n",
        "But what is the effect of the shift? For $\\mu$ fixed and the eigenvalues sorted in descending order:\n",
        "\n",
        "$|\\lambda_1-\\mu|geq|\\lambda_2-\\mu|geq...\\geq|\\lambda_n-\\mu|$\n",
        "\n",
        "And for $1<j \\leq n$ the element of the subdiagonal tends to zero with velocity proportional to\n",
        "\n",
        "$|\\frac{\\lambda_j-\\mu}{\\lambda_{j-1}-\\mu}|^k$\n",
        "\n",
        "And so it tends quickly to zero since when the element at position $A_{ii}$ has reached convergence I consider the matrix $A[:i-1][:i-1]$\n",
        "\n",
        "Below is the Quarteroni code from *Matematica Numerica* by Alfio Quarteroni, Riccardo Sacco and Fausto Saleri"
      ]
    },
    {
      "cell_type": "code",
      "execution_count": null,
      "metadata": {
        "colab": {
          "background_save": true
        },
        "id": "r-hg44BJEuZU"
      },
      "outputs": [],
      "source": [
        "def qr_shift(func, A, nmax, tol):\n",
        "    n, m = A.shape\n",
        "    i = 0\n",
        "    T = hess(A)\n",
        "\n",
        "    for k in range(n, 1, -1):\n",
        "        I = np.eye(k)\n",
        "        while abs(T[k-1, k-2]) > tol * (abs(T[k-1, k-1]) + abs(T[k-2, k-2])):\n",
        "            i += 1\n",
        "            if i > nmax:\n",
        "                return T, i\n",
        "\n",
        "            mu = T[k-1, k-1]\n",
        "            Q_k, R_k = func(T[:k, :k] - mu * I)\n",
        "            T[:k, :k] = R_k @ Q_k + mu * I\n",
        "\n",
        "        T[k-1, k-2] = 0\n",
        "\n",
        "    return T, i"
      ]
    },
    {
      "cell_type": "markdown",
      "metadata": {
        "id": "EmeImDCINYBm"
      },
      "source": [
        "The algorithm then operates on Hessenberg matrices, and checks the convergence of the subdiagonal element. When that one converges, it reduces the area over which the search takes place because up to w hat point one is sure that the matrix has achieved convergence. The improvements are impressive"
      ]
    },
    {
      "cell_type": "code",
      "execution_count": null,
      "metadata": {
        "colab": {
          "background_save": true
        },
        "id": "o-I2LjdaO0cv"
      },
      "outputs": [],
      "source": [
        "iter_gram_schmidt = []\n",
        "iter_householder = []\n",
        "iter_givens = []\n",
        "dimensioni = [i for i in range(3, 33, 5)]\n",
        "tol = 1e-3\n",
        "i = 0\n",
        "for n in tqdm(dimensioni):\n",
        "    iter_gram_schmidt1 = []\n",
        "    iter_householder1 = []\n",
        "    iter_givens1 = []\n",
        "    for k in range(i, 10+i):\n",
        "        print\n",
        "        i1 = qr_shift(QR_Gram_Schmidt, B[k], float('inf'), tol)[1]\n",
        "        iter_gram_schmidt1.append(i1)\n",
        "        i2 = qr_shift(QR_Householder, B[k], float('inf'), tol)[1]\n",
        "        iter_householder1.append(i2)\n",
        "        i3 = qr_shift(QR_Givens, B[k], float('inf'), tol)[1]\n",
        "        iter_givens1.append(i3)\n",
        "    iter_gram_schmidt.append(np.mean(iter_gram_schmidt1))\n",
        "    iter_householder.append(np.mean(iter_householder1))\n",
        "    iter_givens.append(np.mean(iter_givens1))\n",
        "    i+=10\n",
        "\n",
        "plt.figure(figsize=(10, 5))\n",
        "plt.plot(dimensioni, iter_gram_schmidt, label='Gram-Schmidt', marker='o')\n",
        "plt.plot(dimensioni, iter_householder, label='Householder', marker='x')\n",
        "plt.plot(dimensioni, iter_givens, label='Givens', marker='o')\n",
        "plt.xlabel('Square matrix dimension')\n",
        "plt.ylabel('Number of iterations')\n",
        "plt.title('Number of iterations until convergence for Gram-Schmidt - Householder - Givens')\n",
        "plt.legend()\n",
        "plt.grid(True)\n",
        "plt.show()"
      ]
    }
  ],
  "metadata": {
    "colab": {
      "collapsed_sections": [
        "ycx--yA9y9am",
        "PF8WyBIXlHb8",
        "tvfGFjB8M9se",
        "jAnCr88yNqlR",
        "SUvR4EDwrg1o",
        "KTMg9v1iOB_Y",
        "B0rOIdMr-M5y",
        "IznSO-rGU6EY"
      ],
      "provenance": []
    },
    "kernelspec": {
      "display_name": "Python 3",
      "name": "python3"
    },
    "language_info": {
      "name": "python"
    }
  },
  "nbformat": 4,
  "nbformat_minor": 0
}